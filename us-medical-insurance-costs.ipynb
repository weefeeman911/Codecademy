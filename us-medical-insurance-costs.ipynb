{
 "cells": [
  {
   "cell_type": "markdown",
   "metadata": {},
   "source": [
    "# U.S. Medical Insurance Costs"
   ]
  },
  {
   "cell_type": "code",
   "execution_count": 7,
   "metadata": {},
   "outputs": [],
   "source": [
    "import csv \n",
    "from operator import itemgetter"
   ]
  },
  {
   "cell_type": "code",
   "execution_count": 8,
   "metadata": {},
   "outputs": [],
   "source": [
    "list_age = []\n",
    "list_sex = []\n",
    "list_bmi = []\n",
    "list_num_children = []\n",
    "list_smoker = []\n",
    "list_region = []\n",
    "list_insurance_cost = []\n",
    "\n",
    "with open('insurance.csv') as insurance_data:\n",
    "    data_reader = csv.DictReader(insurance_data)\n",
    "    for i in data_reader:\n",
    "        list_age.append(i['age'])\n",
    "        list_sex.append(i['sex'])\n",
    "        list_bmi.append(i['bmi'])\n",
    "        list_num_children.append(i['children'])\n",
    "        list_smoker.append(i['smoker'])\n",
    "        list_region.append(i['region'])\n",
    "        list_insurance_cost.append(i['charges'])\n"
   ]
  },
  {
   "cell_type": "code",
   "execution_count": 641,
   "metadata": {},
   "outputs": [],
   "source": [
    "class PatientsInfo:\n",
    "    # init method that takes in each list parameter\n",
    "    def __init__(self, patients_ages, patients_sexes, patients_bmis, patients_num_children, \n",
    "                 patients_smoker_statuses, patients_regions, patients_charges):\n",
    "        self.patients_ages = patients_ages\n",
    "        self.patients_sexes = patients_sexes\n",
    "        self.patients_bmis = patients_bmis\n",
    "        self.patients_num_children = patients_num_children\n",
    "        self.patients_smoker_statuses = patients_smoker_statuses\n",
    "        self.patients_regions = patients_regions\n",
    "        self.patients_charges = patients_charges\n",
    "        \n",
    "    def av_age (self):\n",
    "        total_age = 0 \n",
    "        for i in self.patients_ages:\n",
    "            total_age += int(i)\n",
    "        return \"Average patients age is \" + str(round(total_age/len(self.patients_ages), 2))\n",
    "    \n",
    "    def region (self): \n",
    "        uniqie_region = []\n",
    "        for i in self.patients_regions:\n",
    "            if i not in uniqie_region:\n",
    "                uniqie_region.append(i)\n",
    "        southwest=self.patients_regions.count('southwest')\n",
    "        southeast=self.patients_regions.count('southeast')\n",
    "        northwest=self.patients_regions.count('northwest')\n",
    "        northeast=self.patients_regions.count('northeast')\n",
    "        dic1 = {'southwest':southwest, 'southeast':southeast, 'northwest':northwest, 'northeast':northwest}\n",
    "        allvalues = dic1.values()\n",
    "        max_key = max(dic1, key=dic1.get)\n",
    "\n",
    "        return 'The most patients are from '+ str(max_key) + ' with ' + str(max(allvalues)) +' number of patients'  \n",
    " \n",
    "    def smoker_comparison(self):\n",
    "        self.patients_dictionary = {}\n",
    "        self.patients_dictionary[\"smoker\"] = self.patients_smoker_statuses\n",
    "        self.patients_dictionary[\"charges\"] = self.patients_charges\n",
    "        total_smoker = 0 \n",
    "        total_no_smoker = 0\n",
    "        dict1={}\n",
    "        smoker_list = self.patients_dictionary['smoker']\n",
    "        charges_list = self.patients_dictionary['charges']\n",
    "        i=0\n",
    "\n",
    "        while i < len(smoker_list): \n",
    "            dict1[float(charges_list[i])]= smoker_list[i]\n",
    "            i+=1 \n",
    "        smk =0\n",
    "        nsmk =0\n",
    "        for k,v in dict1.items():\n",
    "            if v == 'no':\n",
    "                total_no_smoker+= k\n",
    "                nsmk +=1\n",
    "            else:\n",
    "                total_smoker += k\n",
    "                smk +=1\n",
    "                \n",
    "        x = round(total_no_smoker/nsmk, 2)\n",
    "        y=round(total_smoker/smk, 2)\n",
    "        \n",
    "       \n",
    "        return 'the average isusrance charge for smoker is ${} while that for non-smoker is ${}'.format(y,x)\n",
    "    \n",
    "    \n",
    "    def av_cost_one_child(self):\n",
    "        self.patients_dictionary = {}\n",
    "        self.patients_dictionary[\"charges\"] = self.patients_charges\n",
    "        self.patients_dictionary[\"children\"] = self.patients_num_children\n",
    "        dict1={}\n",
    "        children_list = self.patients_dictionary['children']\n",
    "        charges_list = self.patients_dictionary['charges']\n",
    "        i=0\n",
    "\n",
    "        while i < len(children_list):\n",
    "            dict1[float(charges_list[i])]= int(children_list[i])\n",
    "            i+=1 \n",
    "            \n",
    "        dict2={}\n",
    "        for k,v in dict1.items():\n",
    "            if v > 0:\n",
    "                dict2[k] = v\n",
    "        \n",
    "        dict3 = {1:0, 2:0, 3:0, 4:0, 5:0}\n",
    "        \n",
    "        x1=0\n",
    "        xv1 = 0\n",
    "        x2=0\n",
    "        xv2 = 0\n",
    "        x3=0\n",
    "        xv3 = 0\n",
    "        x4=0\n",
    "        xv4 = 0\n",
    "        x5=0\n",
    "        xv5 = 0\n",
    "        \n",
    "        for k,v in dict2.items():\n",
    "            if v == 1: \n",
    "                x1 += k\n",
    "                xv1 += 1 \n",
    "            if v == 2:\n",
    "                x2 += k\n",
    "                xv2 += 1 \n",
    "            if v == 3:\n",
    "                x3 += k\n",
    "                xv3 += 1 \n",
    "            if v == 4:\n",
    "                x4 += k\n",
    "                xv4 += 1 \n",
    "            else:\n",
    "                x5 += k\n",
    "                xv5 += 1 \n",
    "        \n",
    "        dict3[1]=x1/xv1\n",
    "        dict3[2]=x2/xv2\n",
    "        dict3[3]=x3/xv3\n",
    "        dict3[4]=x4/xv4\n",
    "        dict3[5]=x5/xv5\n",
    "        \n",
    "        return 'The avarage insurance charge for somebody who has 1: ${} 2: ${} 3: ${} 4: ${} 5: ${} children, respectively'.format(round(dict3[1], 2), round(dict3[2],2),  round(dict3[3],2), round(dict3[4],2), round(dict3[5],2))\n",
    "    \n",
    "    \n",
    "    \n",
    "    def av_age_at_least_one_child(self):\n",
    "        self.patients_dictionary = {}\n",
    "        self.patients_dictionary[\"ages\"] = self.patients_ages\n",
    "        self.patients_dictionary[\"children\"] = self.patients_num_children\n",
    "        children_list = self.patients_dictionary['children']\n",
    "        ages_list = self.patients_dictionary['ages']\n",
    "        \n",
    "        idividuals_id = []\n",
    "        for i in range(len(self.patients_ages)+1):\n",
    "            idividuals_id.append(i)\n",
    "        \n",
    "        dict1={} \n",
    "        i=0\n",
    "                \n",
    "        while i < len(children_list):\n",
    "            dict1[idividuals_id[i]]= int(children_list[i])\n",
    "            i+=1 \n",
    "            \n",
    "            \n",
    "#    id to number of children \n",
    "        dict2={}\n",
    "    \n",
    "#    id to ages  \n",
    "         \n",
    "        i=0\n",
    "        while i < len(children_list):\n",
    "            dict2[idividuals_id[i]]= int(ages_list[i])\n",
    "            i+=1 \n",
    "        \n",
    "        \n",
    "        dict3 = {}\n",
    "        for k,v in dict1.items():\n",
    "            if v != 0:\n",
    "                dict3[k]=v\n",
    "        keys_x=[]\n",
    "        for k in dict3.keys():\n",
    "            keys_x.append(k)\n",
    "        \n",
    "        ages_x=[]\n",
    "        for i in keys_x:\n",
    "            ages_x.append(dict2[i])\n",
    "        \n",
    "        total1 =0\n",
    "        for i in ages_x:\n",
    "            total1 += i\n",
    "            \n",
    "        \n",
    "        avttl = total1 / len(x)\n",
    "\n",
    "        return \"The avarage age of the patients with at least one chinld is {} years old\".format(round(avttl))\n",
    "\n",
    "    "
   ]
  },
  {
   "cell_type": "code",
   "execution_count": 642,
   "metadata": {},
   "outputs": [],
   "source": [
    "patient_info = PatientsInfo(list_age, list_sex, list_bmi, list_num_children, list_smoker, list_region, list_insurance_cost)"
   ]
  },
  {
   "cell_type": "markdown",
   "metadata": {},
   "source": [
    "#### The avarage patients age "
   ]
  },
  {
   "cell_type": "code",
   "execution_count": 643,
   "metadata": {},
   "outputs": [
    {
     "data": {
      "text/plain": [
       "'Average patients age is 39.21'"
      ]
     },
     "execution_count": 643,
     "metadata": {},
     "output_type": "execute_result"
    }
   ],
   "source": [
    "patient_info.av_age()"
   ]
  },
  {
   "cell_type": "markdown",
   "metadata": {},
   "source": [
    "#### A reigion majority of individuals are from "
   ]
  },
  {
   "cell_type": "code",
   "execution_count": 644,
   "metadata": {},
   "outputs": [
    {
     "data": {
      "text/plain": [
       "'The most patients are from southeast with 364 number of patients'"
      ]
     },
     "execution_count": 644,
     "metadata": {},
     "output_type": "execute_result"
    }
   ],
   "source": [
    "patient_info.region()"
   ]
  },
  {
   "cell_type": "markdown",
   "metadata": {},
   "source": [
    "#### Cost difference between smoker and non-smoker"
   ]
  },
  {
   "cell_type": "code",
   "execution_count": 645,
   "metadata": {},
   "outputs": [
    {
     "data": {
      "text/plain": [
       "'the average isusrance charge for smoker is $32050.23 while that for non-smoker is $8440.66'"
      ]
     },
     "execution_count": 645,
     "metadata": {},
     "output_type": "execute_result"
    }
   ],
   "source": [
    "patient_info.smoker_comparison()"
   ]
  },
  {
   "cell_type": "markdown",
   "metadata": {},
   "source": [
    "#### The average insurance charge is for someone who has at least one child in this dataset."
   ]
  },
  {
   "cell_type": "code",
   "execution_count": 646,
   "metadata": {},
   "outputs": [
    {
     "data": {
      "text/plain": [
       "'The avarage insurance charge for somebody who has 1: $12731.17 2: $15073.56 3: $15355.32 4: $13850.66 5: $13953.3 children, respectively'"
      ]
     },
     "execution_count": 646,
     "metadata": {},
     "output_type": "execute_result"
    }
   ],
   "source": [
    "patient_info.av_cost_one_child()"
   ]
  },
  {
   "cell_type": "markdown",
   "metadata": {},
   "source": [
    "#### The avarage age of the patients with at least one chinld"
   ]
  },
  {
   "cell_type": "code",
   "execution_count": 647,
   "metadata": {},
   "outputs": [
    {
     "data": {
      "text/plain": [
       "'The avarage age of the patients with at least one chinld is 23 years old'"
      ]
     },
     "execution_count": 647,
     "metadata": {},
     "output_type": "execute_result"
    }
   ],
   "source": [
    "patient_info.av_age_at_least_one_child()"
   ]
  },
  {
   "cell_type": "code",
   "execution_count": null,
   "metadata": {},
   "outputs": [],
   "source": []
  },
  {
   "cell_type": "code",
   "execution_count": null,
   "metadata": {},
   "outputs": [],
   "source": []
  },
  {
   "cell_type": "code",
   "execution_count": null,
   "metadata": {},
   "outputs": [],
   "source": []
  }
 ],
 "metadata": {
  "kernelspec": {
   "display_name": "Python 3",
   "language": "python",
   "name": "python3"
  },
  "language_info": {
   "codemirror_mode": {
    "name": "ipython",
    "version": 3
   },
   "file_extension": ".py",
   "mimetype": "text/x-python",
   "name": "python",
   "nbconvert_exporter": "python",
   "pygments_lexer": "ipython3",
   "version": "3.8.8"
  }
 },
 "nbformat": 4,
 "nbformat_minor": 4
}
